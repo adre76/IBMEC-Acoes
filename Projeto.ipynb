{
 "cells": [
  {
   "cell_type": "markdown",
   "metadata": {},
   "source": [
    "### Instalando bibliotecas necessárias"
   ]
  },
  {
   "cell_type": "code",
   "execution_count": null,
   "metadata": {},
   "outputs": [],
   "source": [
    "%pip3 install -r requests.txt"
   ]
  },
  {
   "attachments": {},
   "cell_type": "markdown",
   "metadata": {},
   "source": [
    "### Importando bibliotecas"
   ]
  },
  {
   "cell_type": "code",
   "execution_count": 1,
   "metadata": {},
   "outputs": [],
   "source": [
    "import pandas as pd\n",
    "import yfinance as yf\n",
    "import requests\n",
    "import ipywidgets as widgets\n",
    "from IPython.display import display"
   ]
  },
  {
   "attachments": {},
   "cell_type": "markdown",
   "metadata": {},
   "source": [
    "### Carregando dados de ações em um dataframe"
   ]
  },
  {
   "cell_type": "code",
   "execution_count": 2,
   "metadata": {},
   "outputs": [],
   "source": [
    "html = requests.get(\"https://investnews.com.br/financas/veja-a-lista-completa-dos-bdrs-disponiveis-para-pessoas-fisicas-na-b3/\")\n",
    "df_acoes = pd.read_html(html.text, header=0)[0]\n",
    "linha_inicial = pd.DataFrame({'EMPRESA': ['Escolha'], 'CÓDIGO': ['Escolha'], 'SETOR': ['Escolha'], 'PAÍS DE ORIGEM': ['Escolha']})\n",
    "df_acoes = pd.concat([linha_inicial, df_acoes]).reset_index(drop=True)"
   ]
  },
  {
   "attachments": {},
   "cell_type": "markdown",
   "metadata": {},
   "source": [
    "### Criando um menu de escolha de ações"
   ]
  },
  {
   "cell_type": "code",
   "execution_count": 3,
   "metadata": {},
   "outputs": [
    {
     "data": {
      "application/vnd.jupyter.widget-view+json": {
       "model_id": "6bf8de41b61f4ce5b6e20fa7578981c9",
       "version_major": 2,
       "version_minor": 0
      },
      "text/plain": [
       "VBox(children=(Dropdown(description='Setor:', options=('Escolha', 'Indústria diversificada', 'Bebidas', 'Indus…"
      ]
     },
     "execution_count": 3,
     "metadata": {},
     "output_type": "execute_result"
    }
   ],
   "source": [
    "acoes_selecionadas =[]\n",
    "\n",
    "# Cria o menu dropdown de Setores\n",
    "col1_dropdown = widgets.Dropdown(options=list(df_acoes['SETOR'].unique()), description='Setor:')\n",
    "\n",
    "# Define a função que será chamada quando o usuário selecionar um valor no menu dropdown de Setores\n",
    "def update_col2_options(*args):\n",
    "    col1_value = col1_dropdown.value\n",
    "    col2_dropdown.options = list(df_acoes[df_acoes['SETOR'] == col1_value]['CÓDIGO'].unique())\n",
    "\n",
    "# Cria o menu dropdown de ações\n",
    "col2_dropdown = widgets.Dropdown(description='Ação:')\n",
    "\n",
    "# Observa o menu dropdown de Setores para atualizar o menu dropdown de ações quando um setor for selecionado\n",
    "col1_dropdown.observe(update_col2_options, 'value')\n",
    "\n",
    "# Cria um botão\n",
    "botao = widgets.Button(description='Adicionar à lista')\n",
    "\n",
    "# criando o objeto Text com o valor inicial da lista\n",
    "texto = widgets.Text(value=str(acoes_selecionadas), description='Seleção:')\n",
    "texto.layout.width = '800px'\n",
    "\n",
    "#col2_dropdown.observe(on_dropdown_acoes_change, names='value')\n",
    "def valor_selecionado(b):\n",
    "    acoes_selecionadas.append(col2_dropdown.value)\n",
    "    texto.value = str(acoes_selecionadas)\n",
    "\n",
    "# Adiciona o valor do menu dropdown de ações à lista, ao pressionar o botão\n",
    "botao.on_click(valor_selecionado)\n",
    "\n",
    "# Cria um objeto VBox para exibir os menus dropdown na vertical\n",
    "widgets.VBox([col1_dropdown, col2_dropdown, botao, texto])"
   ]
  },
  {
   "attachments": {},
   "cell_type": "markdown",
   "metadata": {},
   "source": [
    "### Adicionando '.SA' às ações escolhidas"
   ]
  },
  {
   "cell_type": "code",
   "execution_count": 4,
   "metadata": {},
   "outputs": [],
   "source": [
    "for i in range(len(acoes_selecionadas)):\n",
    "    acoes_selecionadas[i] = acoes_selecionadas[i] + '.SA'"
   ]
  }
 ],
 "metadata": {
  "kernelspec": {
   "display_name": "Python 3",
   "language": "python",
   "name": "python3"
  },
  "language_info": {
   "codemirror_mode": {
    "name": "ipython",
    "version": 3
   },
   "file_extension": ".py",
   "mimetype": "text/x-python",
   "name": "python",
   "nbconvert_exporter": "python",
   "pygments_lexer": "ipython3",
   "version": "3.10.10"
  },
  "orig_nbformat": 4
 },
 "nbformat": 4,
 "nbformat_minor": 2
}
