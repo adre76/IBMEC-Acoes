{
 "cells": [
  {
   "cell_type": "markdown",
   "metadata": {},
   "source": [
    "### Instalando bibliotecas necessárias"
   ]
  },
  {
   "cell_type": "code",
   "execution_count": null,
   "metadata": {},
   "outputs": [],
   "source": [
    "!pip3 install -r requests.txt"
   ]
  },
  {
   "attachments": {},
   "cell_type": "markdown",
   "metadata": {},
   "source": [
    "### Importando bibliotecas"
   ]
  },
  {
   "cell_type": "code",
   "execution_count": 2,
   "metadata": {},
   "outputs": [],
   "source": [
    "import pandas as pd\n",
    "import yfinance as yf\n",
    "import numpy as np\n",
    "import matplotlib.pyplot as plt\n",
    "import requests\n",
    "import ipywidgets as widgets\n",
    "from IPython.display import display\n",
    "import tensorflow as tf\n",
    "from keras.models import Sequential\n",
    "from keras.layers import LSTM, Dense, Dropout\n",
    "from datetime import date\n",
    "from mip import Model, maximize, xsum, BINARY, OptimizationStatus"
   ]
  },
  {
   "attachments": {},
   "cell_type": "markdown",
   "metadata": {},
   "source": [
    "### Carregando dados de ações em um dataframe"
   ]
  },
  {
   "cell_type": "code",
   "execution_count": 3,
   "metadata": {},
   "outputs": [],
   "source": [
    "html = requests.get(\"https://investnews.com.br/financas/veja-a-lista-completa-dos-bdrs-disponiveis-para-pessoas-fisicas-na-b3/\")\n",
    "df_acoes = pd.read_html(html.text, header=0)[0]\n",
    "linha_inicial = pd.DataFrame({'EMPRESA': ['Escolha'], 'CÓDIGO': ['Escolha'], 'SETOR': ['Escolha'], 'PAÍS DE ORIGEM': ['Escolha']})\n",
    "df_acoes = pd.concat([linha_inicial, df_acoes]).reset_index(drop=True)"
   ]
  },
  {
   "attachments": {},
   "cell_type": "markdown",
   "metadata": {},
   "source": [
    "### Criando um menu de escolha de ações"
   ]
  },
  {
   "cell_type": "code",
   "execution_count": null,
   "metadata": {},
   "outputs": [],
   "source": [
    "acoes_selecionadas =[]\n",
    "\n",
    "# Cria o menu dropdown de Setores\n",
    "col1_dropdown = widgets.Dropdown(options=list(df_acoes['SETOR'].unique()), description='Setor:')\n",
    "\n",
    "# Define a função que será chamada quando o usuário selecionar um valor no menu dropdown de Setores\n",
    "def update_col2_options(*args):\n",
    "    col1_value = col1_dropdown.value\n",
    "    col2_dropdown.options = list(df_acoes[df_acoes['SETOR'] == col1_value]['CÓDIGO'].unique())\n",
    "\n",
    "# Cria o menu dropdown de ações\n",
    "col2_dropdown = widgets.Dropdown(description='Ação:')\n",
    "\n",
    "# Observa o menu dropdown de Setores para atualizar o menu dropdown de ações quando um setor for selecionado\n",
    "col1_dropdown.observe(update_col2_options, 'value')\n",
    "\n",
    "# Cria um botão\n",
    "botao = widgets.Button(description='Adicionar à lista')\n",
    "\n",
    "# criando o objeto Text com o valor inicial da lista\n",
    "texto = widgets.Text(value=str(acoes_selecionadas), description='Seleção:')\n",
    "texto.layout.width = '800px'\n",
    "\n",
    "#col2_dropdown.observe(on_dropdown_acoes_change, names='value')\n",
    "def valor_selecionado(b):\n",
    "    acoes_selecionadas.append(col2_dropdown.value + '.SA')\n",
    "    texto.value = str(acoes_selecionadas)\n",
    "\n",
    "# Adiciona o valor do menu dropdown de ações à lista, ao pressionar o botão\n",
    "botao.on_click(valor_selecionado)\n",
    "\n",
    "# Cria um objeto VBox para exibir os menus dropdown na vertical\n",
    "widgets.VBox([col1_dropdown, col2_dropdown, botao, texto])"
   ]
  },
  {
   "attachments": {},
   "cell_type": "markdown",
   "metadata": {},
   "source": [
    "### Configurando variáveis de data e configurando a saída do Tensorflow para exibir apenas mensagens de erro"
   ]
  },
  {
   "cell_type": "code",
   "execution_count": 5,
   "metadata": {},
   "outputs": [],
   "source": [
    "data_inicial = date(2021, 1, 1)\n",
    "data_final = date(2023, 3, 1)\n",
    "data_previsao = date(2023, 6, 30)\n",
    "tf.get_logger().setLevel('ERROR')"
   ]
  },
  {
   "attachments": {},
   "cell_type": "markdown",
   "metadata": {},
   "source": [
    "### Função para criar um modelo preditivo Tensorflow de uma determinada ação (no período entre 01/01/2021 e 01/03/2023) e calcular o valor futuro, no dia 30/06/2023"
   ]
  },
  {
   "cell_type": "code",
   "execution_count": 6,
   "metadata": {},
   "outputs": [],
   "source": [
    "# Função geraModeloTF()\n",
    "# Nome: André Pereira\n",
    "# Data: 19/03/2023\n",
    "# Descrição: A função recebe um atributo do tipo string no format de nome de ativo da bolsa de valores. Exemplo:'PETR4.SA'.\n",
    "# Este valor precisa ser um nome válido de uma ação real. É utilizada a biblioteca [yfinance] para gerar os dados históricos\n",
    "# da ação apresentada, no período de tempo compreendido entre as datas configuradas nas variáveis [data_inicial] e [data_final].\n",
    "# Os dados são tratados e apresentados ao algorítimo LSTM do Tensorflow para treinar um modelo RNN e prever um valor de ação em\n",
    "# data futura, configurada pela variável [data_previsao]. A função retorna um valor previsto, de tipo string.\n",
    "# Exemplo de utilização: valor_predito = geraModeloTF('NUBR33.SA').\n",
    "\n",
    "def geraModeloTF(acao):\n",
    "    # Download dos dados históricos da ação\n",
    "    historico = yf.download(acao, start=data_inicial.strftime('%Y-%m-%d'), end=data_final.strftime('%Y-%m-%d'), progress=False)\n",
    "\n",
    "    # Selecionando apenas a coluna de data e preço de fechamento da ação\n",
    "    historico.drop(['Open','High', 'Low', 'Adj Close', 'Volume'], axis=1, inplace=True)\n",
    "    historico.index.names = ['Data']\n",
    "    historico.rename(columns={'Close': 'Preco'}, inplace=True)\n",
    "\n",
    "    # Criando lista com os valores de fechamento da ação\n",
    "    y=[]\n",
    "    for a in historico['Preco']:\n",
    "        y.append(a)\n",
    "\n",
    "    # Criando lista com a contagem de dias contidos no período selecionado\n",
    "    x = np.arange(1, len(y) + 1, 1)\n",
    "\n",
    "    # Padronizando os valores da lista de preços da ação (preparação para o aprendizado de máquina)\n",
    "    y = (y - np.min(y)) / (np.max(y) - np.min(y))\n",
    "    \n",
    "    # Separando os dados em conjuntos distintos para treino e teste\n",
    "    percent_treino = 0.8\n",
    "    qtd_treino = int(percent_treino * (len(x)))\n",
    "    x_treino = x[0:qtd_treino] \n",
    "    x_teste = x[qtd_treino:]\n",
    "\n",
    "    y_treino = y[0:qtd_treino]\n",
    "    y_teste = y[qtd_treino:]\n",
    "\n",
    "    treino = np.array(list(zip(x_treino, y_treino)))\n",
    "    teste = np.array(list(zip(x_teste, y_teste)))\n",
    "\n",
    "    # Estruturação dos dados\n",
    "    def preparar_dados(dados_serie, look_back):\n",
    "        X, y =[],[]\n",
    "        n = len(dados_serie)\n",
    "        for i in range(n - look_back):\n",
    "            posicao_fim = i + look_back\n",
    "            if posicao_fim <= n:\n",
    "                seq_x = dados_serie[i:posicao_fim,1]\n",
    "                seq_y = dados_serie[posicao_fim,1]\n",
    "                X.append(seq_x)\n",
    "                y.append(seq_y)\n",
    "        return np.array(X), np.array(y)\n",
    "    \n",
    "    look_back = 2\n",
    "    x_treino, y_treino = preparar_dados(treino, look_back)\n",
    "    x_teste, y_teste = preparar_dados(teste, look_back)\n",
    "\n",
    "    num_caracteristicas = 1\n",
    "    x_treino = x_treino.reshape((x_treino.shape[0], \n",
    "                             x_treino.shape[1], \n",
    "                             num_caracteristicas))\n",
    "    x_teste = x_teste.reshape((x_teste.shape[0], \n",
    "                       x_teste.shape[1], \n",
    "                       num_caracteristicas))\n",
    "    \n",
    "    # Criação do modelo de redes neurais\n",
    "    num_etapas = x_treino.shape[1]\n",
    "    num_caracteristicas = x_treino.shape[2]\n",
    "    epocas = 20\n",
    "    num_unidades = 100\n",
    "    tf.random.set_seed(7777)\n",
    "    modelo = Sequential()\n",
    "    camada_de_entrada=(num_etapas, num_caracteristicas)\n",
    "    modelo.add(LSTM(num_unidades, return_sequences = True, input_shape = camada_de_entrada))\n",
    "    modelo.add(Dropout(0.2))\n",
    "    modelo.add(LSTM(128, input_shape = camada_de_entrada))\n",
    "    modelo.add(Dense(1))\n",
    "\n",
    "    # Configurando algorítimos de cálculo de precisão do modelo e otimizador\n",
    "    modelo.compile(loss='mean_squared_error', optimizer='adam')\n",
    "\n",
    "    # Treinando o modelo\n",
    "    modelo_treinado = modelo.fit(x_treino, y_treino, epochs = epocas, verbose = 0, batch_size = 70, shuffle = False, validation_split = 0.3)\n",
    "\n",
    "    # Exibindo informações do modelo treinado\n",
    "    print('=================================== {} ==================================='.format(acao))\n",
    "    print(\"Performance do modelo (MSE): {}\".format(str(modelo.evaluate(x_teste, y_teste, batch_size=64, verbose=0))))\n",
    "    print('=================================================================================')\n",
    "    plt.title(acao + ': Cálculo do Erro ao longo do treinamento')\n",
    "    plt.ylabel('Erro')\n",
    "    plt.xlabel('Época')\n",
    "    plt.plot(modelo_treinado.history['loss'])\n",
    "    plt.plot(modelo_treinado.history['val_loss'])\n",
    "    plt.legend(['loss (treinamento)', 'val_loss (validação)'], loc='upper right')\n",
    "    plt.show()\n",
    "\n",
    "    predicao = modelo.predict(x_teste, verbose=0)\n",
    "    look_back = 1\n",
    "    valores_reais_y = y_teste\n",
    "    plt.plot(list(range(len(valores_reais_y))), valores_reais_y, marker='.', label=\"Real\")\n",
    "    lst_dados_predicao=[w[0] for w in predicao]\n",
    "    plt.plot(list(np.arange(len(predicao))-look_back), lst_dados_predicao, 'r',label=\"Estimação do Modelo\")\n",
    "    plt.title(acao + ': Visualizando a acurácia do modelo treinado')\n",
    "    plt.ylabel('Valores', size=10)\n",
    "    plt.xlabel('Período', size=10)\n",
    "    plt.legend(fontsize=10)\n",
    "    plt.show()\n",
    "\n",
    "    # Realizando a predição na data estipulada\n",
    "    num_dias = data_previsao - data_inicial\n",
    "    x = np.arange(1, num_dias.days + 1, 1)\n",
    "    qtd_treino = int(percent_treino * (len(x)))\n",
    "    x_teste = x[qtd_treino:]\n",
    "    X=[]\n",
    "    for i in range(len(x_teste) - look_back):\n",
    "        posicao_fim = i + look_back\n",
    "        if posicao_fim <= len(x_teste):\n",
    "            seq_x = x_teste[i:posicao_fim]\n",
    "            X.append(seq_x)\n",
    "\n",
    "    novo_treino = np.array(X)\n",
    "    num_caracteristicas = 1\n",
    "    novo_treino = novo_treino.reshape((novo_treino.shape[0], novo_treino.shape[1], num_caracteristicas))\n",
    "\n",
    "    val_pred = modelo.predict(novo_treino[len(novo_treino) - 1], verbose=0)\n",
    "    \n",
    "    return str(val_pred[0][0])"
   ]
  },
  {
   "attachments": {},
   "cell_type": "markdown",
   "metadata": {},
   "source": [
    "### Gerando a lista de valores preditos no dia 30/06/2023 para as ações selecionadas"
   ]
  },
  {
   "cell_type": "code",
   "execution_count": null,
   "metadata": {},
   "outputs": [],
   "source": [
    "lista_pred = []\n",
    "for i in range(len(acoes_selecionadas)):\n",
    "    lista_pred.append(geraModeloTF(acoes_selecionadas[i]))\n"
   ]
  },
  {
   "attachments": {},
   "cell_type": "markdown",
   "metadata": {},
   "source": [
    "### Configurando a função de otimização"
   ]
  },
  {
   "cell_type": "code",
   "execution_count": null,
   "metadata": {},
   "outputs": [],
   "source": [
    "lista_pred"
   ]
  }
 ],
 "metadata": {
  "kernelspec": {
   "display_name": "Python 3",
   "language": "python",
   "name": "python3"
  },
  "language_info": {
   "codemirror_mode": {
    "name": "ipython",
    "version": 3
   },
   "file_extension": ".py",
   "mimetype": "text/x-python",
   "name": "python",
   "nbconvert_exporter": "python",
   "pygments_lexer": "ipython3",
   "version": "3.10.10"
  },
  "orig_nbformat": 4
 },
 "nbformat": 4,
 "nbformat_minor": 2
}
