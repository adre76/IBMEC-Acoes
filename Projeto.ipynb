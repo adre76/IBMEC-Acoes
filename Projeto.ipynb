{
 "cells": [
  {
   "cell_type": "markdown",
   "metadata": {},
   "source": [
    "### Instalando bibliotecas necessárias"
   ]
  },
  {
   "cell_type": "code",
   "execution_count": null,
   "metadata": {},
   "outputs": [],
   "source": [
    "!pip install -r requests.txt"
   ]
  },
  {
   "attachments": {},
   "cell_type": "markdown",
   "metadata": {},
   "source": [
    "### Importando bibliotecas"
   ]
  },
  {
   "cell_type": "code",
   "execution_count": 2,
   "metadata": {},
   "outputs": [],
   "source": [
    "import pandas as pd\n",
    "import yfinance as yf\n",
    "import requests"
   ]
  },
  {
   "attachments": {},
   "cell_type": "markdown",
   "metadata": {},
   "source": [
    "### Carregando dados de ações em um dataframe"
   ]
  },
  {
   "cell_type": "code",
   "execution_count": 4,
   "metadata": {},
   "outputs": [
    {
     "data": {
      "text/html": [
       "<div>\n",
       "<style scoped>\n",
       "    .dataframe tbody tr th:only-of-type {\n",
       "        vertical-align: middle;\n",
       "    }\n",
       "\n",
       "    .dataframe tbody tr th {\n",
       "        vertical-align: top;\n",
       "    }\n",
       "\n",
       "    .dataframe thead th {\n",
       "        text-align: right;\n",
       "    }\n",
       "</style>\n",
       "<table border=\"1\" class=\"dataframe\">\n",
       "  <thead>\n",
       "    <tr style=\"text-align: right;\">\n",
       "      <th></th>\n",
       "      <th>EMPRESA</th>\n",
       "      <th>CÓDIGO</th>\n",
       "      <th>SETOR</th>\n",
       "      <th>PAÍS DE ORIGEM</th>\n",
       "    </tr>\n",
       "  </thead>\n",
       "  <tbody>\n",
       "    <tr>\n",
       "      <th>0</th>\n",
       "      <td>3M</td>\n",
       "      <td>MMMC34</td>\n",
       "      <td>Indústria diversificada</td>\n",
       "      <td>EUA</td>\n",
       "    </tr>\n",
       "    <tr>\n",
       "      <th>1</th>\n",
       "      <td>AB INBEV</td>\n",
       "      <td>ABUD34</td>\n",
       "      <td>Bebidas</td>\n",
       "      <td>Bélgica</td>\n",
       "    </tr>\n",
       "    <tr>\n",
       "      <th>2</th>\n",
       "      <td>ABB LTD</td>\n",
       "      <td>A1BB34</td>\n",
       "      <td>Industrial</td>\n",
       "      <td>Switzerland</td>\n",
       "    </tr>\n",
       "    <tr>\n",
       "      <th>3</th>\n",
       "      <td>ABBOTT</td>\n",
       "      <td>ABTT34</td>\n",
       "      <td>Farmacêuticos</td>\n",
       "      <td>EUA</td>\n",
       "    </tr>\n",
       "    <tr>\n",
       "      <th>4</th>\n",
       "      <td>ABBVIE</td>\n",
       "      <td>ABBV34</td>\n",
       "      <td>Medicamentos e Outros Produtos</td>\n",
       "      <td>EUA</td>\n",
       "    </tr>\n",
       "    <tr>\n",
       "      <th>...</th>\n",
       "      <td>...</td>\n",
       "      <td>...</td>\n",
       "      <td>...</td>\n",
       "      <td>...</td>\n",
       "    </tr>\n",
       "    <tr>\n",
       "      <th>703</th>\n",
       "      <td>RAYTHEON TECH</td>\n",
       "      <td>RYTT34</td>\n",
       "      <td>Industrial</td>\n",
       "      <td>EUA</td>\n",
       "    </tr>\n",
       "    <tr>\n",
       "      <th>704</th>\n",
       "      <td>SCHLUMBERGER</td>\n",
       "      <td>SLBG34</td>\n",
       "      <td>Equipamentos e Serviços de Combustível</td>\n",
       "      <td>EUA</td>\n",
       "    </tr>\n",
       "    <tr>\n",
       "      <th>705</th>\n",
       "      <td>TIFFANY</td>\n",
       "      <td>TIFF34</td>\n",
       "      <td>Joalheria</td>\n",
       "      <td>EUA</td>\n",
       "    </tr>\n",
       "    <tr>\n",
       "      <th>706</th>\n",
       "      <td>US BANCORP</td>\n",
       "      <td>USBC34</td>\n",
       "      <td>Instituição Financeira</td>\n",
       "      <td>EUA</td>\n",
       "    </tr>\n",
       "    <tr>\n",
       "      <th>707</th>\n",
       "      <td>XP INC</td>\n",
       "      <td>XPBR31</td>\n",
       "      <td>Financeiro</td>\n",
       "      <td>Brasil</td>\n",
       "    </tr>\n",
       "  </tbody>\n",
       "</table>\n",
       "<p>708 rows × 4 columns</p>\n",
       "</div>"
      ],
      "text/plain": [
       "           EMPRESA  CÓDIGO                                   SETOR  \\\n",
       "0               3M  MMMC34                 Indústria diversificada   \n",
       "1         AB INBEV  ABUD34                                 Bebidas   \n",
       "2          ABB LTD  A1BB34                              Industrial   \n",
       "3           ABBOTT  ABTT34                           Farmacêuticos   \n",
       "4           ABBVIE  ABBV34          Medicamentos e Outros Produtos   \n",
       "..             ...     ...                                     ...   \n",
       "703  RAYTHEON TECH  RYTT34                              Industrial   \n",
       "704   SCHLUMBERGER  SLBG34  Equipamentos e Serviços de Combustível   \n",
       "705        TIFFANY  TIFF34                               Joalheria   \n",
       "706     US BANCORP  USBC34                  Instituição Financeira   \n",
       "707         XP INC  XPBR31                              Financeiro   \n",
       "\n",
       "    PAÍS DE ORIGEM  \n",
       "0              EUA  \n",
       "1          Bélgica  \n",
       "2      Switzerland  \n",
       "3              EUA  \n",
       "4              EUA  \n",
       "..             ...  \n",
       "703            EUA  \n",
       "704            EUA  \n",
       "705            EUA  \n",
       "706            EUA  \n",
       "707         Brasil  \n",
       "\n",
       "[708 rows x 4 columns]"
      ]
     },
     "execution_count": 4,
     "metadata": {},
     "output_type": "execute_result"
    }
   ],
   "source": [
    "html = requests.get(\"https://investnews.com.br/financas/veja-a-lista-completa-dos-bdrs-disponiveis-para-pessoas-fisicas-na-b3/\")\n",
    "df_acoes = pd.read_html(html.text, header=0)[0]\n",
    "df_acoes"
   ]
  }
 ],
 "metadata": {
  "kernelspec": {
   "display_name": "Python 3",
   "language": "python",
   "name": "python3"
  },
  "language_info": {
   "codemirror_mode": {
    "name": "ipython",
    "version": 3
   },
   "file_extension": ".py",
   "mimetype": "text/x-python",
   "name": "python",
   "nbconvert_exporter": "python",
   "pygments_lexer": "ipython3",
   "version": "3.10.10"
  },
  "orig_nbformat": 4
 },
 "nbformat": 4,
 "nbformat_minor": 2
}
